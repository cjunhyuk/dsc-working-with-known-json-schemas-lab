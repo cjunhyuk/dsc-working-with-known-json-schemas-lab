{
 "cells": [
  {
   "cell_type": "markdown",
   "metadata": {},
   "source": [
    "# Working with Known JSON Schemas - Lab"
   ]
  },
  {
   "cell_type": "markdown",
   "metadata": {},
   "source": [
    "## Introduction\n",
    "In this lab, you'll practice working with JSON files whose schema you know beforehand."
   ]
  },
  {
   "cell_type": "markdown",
   "metadata": {},
   "source": [
    "## Objectives\n",
    "You will be able to:\n",
    "* Use the JSON module to load and parse JSON documents\n",
    "* Extract data using predefined JSON schemas\n",
    "* Convert JSON to a pandas dataframe"
   ]
  },
  {
   "cell_type": "markdown",
   "metadata": {},
   "source": [
    "## Reading a JSON Schema\n",
    "\n",
    "Here's the JSON schema provided for a section of the NY Times API:\n",
    "<img src=\"images/nytimes_movie_schema.png\" width=500>\n",
    "\n",
    "or a fully expanded view:\n",
    "\n",
    "<img src=\"images/nytimes_movie_schema_detailed.png\" width=500>\n",
    "\n",
    "You can more about the documentation [here](https://developer.nytimes.com/docs/movie-reviews-api/1/routes/reviews/%7Btype%7D.json/get).\n",
    "\n",
    "Note that **this is a different schema than the schema used in the previous lesson**, although both come from the New York Times."
   ]
  },
  {
   "cell_type": "markdown",
   "metadata": {},
   "source": [
    "## Loading the JSON Data\n",
    "\n",
    "Open the JSON file located at `ny_times_movies.json`, and use the `json` module to load the data into a variable called `data`."
   ]
  },
  {
   "cell_type": "code",
   "execution_count": 1,
   "metadata": {},
   "outputs": [],
   "source": [
    "# Your code here\n",
    "import json\n",
    "\n",
    "with open('ny_times_movies.json') as f:\n",
    "    data = json.load(f)"
   ]
  },
  {
   "cell_type": "markdown",
   "metadata": {},
   "source": [
    "Run the code below to investigate its contents:"
   ]
  },
  {
   "cell_type": "code",
   "execution_count": 2,
   "metadata": {},
   "outputs": [
    {
     "name": "stdout",
     "output_type": "stream",
     "text": [
      "`data` has type <class 'dict'>\n",
      "The keys are ['status', 'copyright', 'has_more', 'num_results', 'results']\n"
     ]
    }
   ],
   "source": [
    "# Run this cell without changes\n",
    "print(\"`data` has type\", type(data))\n",
    "print(\"The keys are\", list(data.keys()))"
   ]
  },
  {
   "cell_type": "markdown",
   "metadata": {},
   "source": [
    "## Loading Results\n",
    "\n",
    "Create a variable `results` that contains the value associated with the `'results'` key."
   ]
  },
  {
   "cell_type": "code",
   "execution_count": 45,
   "metadata": {},
   "outputs": [],
   "source": [
    "# Your code here\n",
    "results = [data['results']]"
   ]
  },
  {
   "cell_type": "markdown",
   "metadata": {},
   "source": [
    "Below we display this variable as a table using pandas:"
   ]
  },
  {
   "cell_type": "code",
   "execution_count": 46,
   "metadata": {},
   "outputs": [
    {
     "data": {
      "text/html": [
       "<div>\n",
       "<style scoped>\n",
       "    .dataframe tbody tr th:only-of-type {\n",
       "        vertical-align: middle;\n",
       "    }\n",
       "\n",
       "    .dataframe tbody tr th {\n",
       "        vertical-align: top;\n",
       "    }\n",
       "\n",
       "    .dataframe thead th {\n",
       "        text-align: right;\n",
       "    }\n",
       "</style>\n",
       "<table border=\"1\" class=\"dataframe\">\n",
       "  <thead>\n",
       "    <tr style=\"text-align: right;\">\n",
       "      <th></th>\n",
       "      <th>0</th>\n",
       "      <th>1</th>\n",
       "      <th>2</th>\n",
       "      <th>3</th>\n",
       "      <th>4</th>\n",
       "      <th>5</th>\n",
       "      <th>6</th>\n",
       "      <th>7</th>\n",
       "      <th>8</th>\n",
       "      <th>9</th>\n",
       "      <th>10</th>\n",
       "      <th>11</th>\n",
       "      <th>12</th>\n",
       "      <th>13</th>\n",
       "      <th>14</th>\n",
       "      <th>15</th>\n",
       "      <th>16</th>\n",
       "      <th>17</th>\n",
       "      <th>18</th>\n",
       "      <th>19</th>\n",
       "    </tr>\n",
       "  </thead>\n",
       "  <tbody>\n",
       "    <tr>\n",
       "      <th>0</th>\n",
       "      <td>{'display_title': 'Can You Ever Forgive Me', '...</td>\n",
       "      <td>{'display_title': 'Charm City', 'mpaa_rating':...</td>\n",
       "      <td>{'display_title': 'Horn from the Heart: The Pa...</td>\n",
       "      <td>{'display_title': 'The Price of Everything', '...</td>\n",
       "      <td>{'display_title': 'Impulso', 'mpaa_rating': ''...</td>\n",
       "      <td>{'display_title': 'Watergate', 'mpaa_rating': ...</td>\n",
       "      <td>{'display_title': 'Barbara', 'mpaa_rating': ''...</td>\n",
       "      <td>{'display_title': 'Over the Limit', 'mpaa_rati...</td>\n",
       "      <td>{'display_title': 'The Kindergarten Teacher', ...</td>\n",
       "      <td>{'display_title': 'Classical Period', 'mpaa_ra...</td>\n",
       "      <td>{'display_title': 'Bad Times at the El Royale'...</td>\n",
       "      <td>{'display_title': 'Beautiful Boy', 'mpaa_ratin...</td>\n",
       "      <td>{'display_title': 'The Oath', 'mpaa_rating': '...</td>\n",
       "      <td>{'display_title': 'Bikini Moon', 'mpaa_rating'...</td>\n",
       "      <td>{'display_title': 'Goosebumps 2: Haunted Hallo...</td>\n",
       "      <td>{'display_title': 'The Sentence', 'mpaa_rating...</td>\n",
       "      <td>{'display_title': 'All Square', 'mpaa_rating':...</td>\n",
       "      <td>{'display_title': 'Sadie', 'mpaa_rating': '', ...</td>\n",
       "      <td>{'display_title': 'After Everything', 'mpaa_ra...</td>\n",
       "      <td>{'display_title': 'First Man', 'mpaa_rating': ...</td>\n",
       "    </tr>\n",
       "  </tbody>\n",
       "</table>\n",
       "</div>"
      ],
      "text/plain": [
       "                                                  0   \\\n",
       "0  {'display_title': 'Can You Ever Forgive Me', '...   \n",
       "\n",
       "                                                  1   \\\n",
       "0  {'display_title': 'Charm City', 'mpaa_rating':...   \n",
       "\n",
       "                                                  2   \\\n",
       "0  {'display_title': 'Horn from the Heart: The Pa...   \n",
       "\n",
       "                                                  3   \\\n",
       "0  {'display_title': 'The Price of Everything', '...   \n",
       "\n",
       "                                                  4   \\\n",
       "0  {'display_title': 'Impulso', 'mpaa_rating': ''...   \n",
       "\n",
       "                                                  5   \\\n",
       "0  {'display_title': 'Watergate', 'mpaa_rating': ...   \n",
       "\n",
       "                                                  6   \\\n",
       "0  {'display_title': 'Barbara', 'mpaa_rating': ''...   \n",
       "\n",
       "                                                  7   \\\n",
       "0  {'display_title': 'Over the Limit', 'mpaa_rati...   \n",
       "\n",
       "                                                  8   \\\n",
       "0  {'display_title': 'The Kindergarten Teacher', ...   \n",
       "\n",
       "                                                  9   \\\n",
       "0  {'display_title': 'Classical Period', 'mpaa_ra...   \n",
       "\n",
       "                                                  10  \\\n",
       "0  {'display_title': 'Bad Times at the El Royale'...   \n",
       "\n",
       "                                                  11  \\\n",
       "0  {'display_title': 'Beautiful Boy', 'mpaa_ratin...   \n",
       "\n",
       "                                                  12  \\\n",
       "0  {'display_title': 'The Oath', 'mpaa_rating': '...   \n",
       "\n",
       "                                                  13  \\\n",
       "0  {'display_title': 'Bikini Moon', 'mpaa_rating'...   \n",
       "\n",
       "                                                  14  \\\n",
       "0  {'display_title': 'Goosebumps 2: Haunted Hallo...   \n",
       "\n",
       "                                                  15  \\\n",
       "0  {'display_title': 'The Sentence', 'mpaa_rating...   \n",
       "\n",
       "                                                  16  \\\n",
       "0  {'display_title': 'All Square', 'mpaa_rating':...   \n",
       "\n",
       "                                                  17  \\\n",
       "0  {'display_title': 'Sadie', 'mpaa_rating': '', ...   \n",
       "\n",
       "                                                  18  \\\n",
       "0  {'display_title': 'After Everything', 'mpaa_ra...   \n",
       "\n",
       "                                                  19  \n",
       "0  {'display_title': 'First Man', 'mpaa_rating': ...  "
      ]
     },
     "execution_count": 46,
     "metadata": {},
     "output_type": "execute_result"
    }
   ],
   "source": [
    "# Run this cell without changes\n",
    "import pandas as pd\n",
    "df = pd.DataFrame(results)\n",
    "df"
   ]
  },
  {
   "cell_type": "markdown",
   "metadata": {},
   "source": [
    "## Data Analysis\n",
    "\n",
    "Now that you have a general sense of the data, answer some questions about it.\n",
    "\n",
    "### How many results are in the file?\n",
    "\n",
    "The metadata says this:"
   ]
  },
  {
   "cell_type": "code",
   "execution_count": 47,
   "metadata": {},
   "outputs": [
    {
     "data": {
      "text/plain": [
       "20"
      ]
     },
     "execution_count": 47,
     "metadata": {},
     "output_type": "execute_result"
    }
   ],
   "source": [
    "# Run this cell without changes\n",
    "data['num_results']"
   ]
  },
  {
   "cell_type": "markdown",
   "metadata": {},
   "source": [
    "Double-check that by looking at `results`. Does it line up?"
   ]
  },
  {
   "cell_type": "code",
   "execution_count": 48,
   "metadata": {},
   "outputs": [
    {
     "data": {
      "text/plain": [
       "[[{'display_title': 'Can You Ever Forgive Me',\n",
       "   'mpaa_rating': 'R',\n",
       "   'critics_pick': 1,\n",
       "   'byline': 'A.O. SCOTT',\n",
       "   'headline': 'Review: Melissa McCarthy Is Criminally Good in â€˜Can You Ever Forgive Me?â€™',\n",
       "   'summary_short': 'Marielle Heller directs a true story of literary fraud, set amid the bookstores and gay bars of early â€™90s Manhattan.',\n",
       "   'publication_date': '2018-10-16',\n",
       "   'opening_date': '2018-10-19',\n",
       "   'date_updated': '2018-10-17 02:44:23',\n",
       "   'link': {'type': 'article',\n",
       "    'url': 'http://www.nytimes.com/2018/10/16/movies/can-you-ever-forgive-me-review-melissa-mccarthy.html',\n",
       "    'suggested_link_text': 'Read the New York Times Review of Can You Ever Forgive Me'},\n",
       "   'multimedia': {'type': 'mediumThreeByTwo210',\n",
       "    'src': 'https://static01.nyt.com/images/2018/10/19/arts/19CANYOUEVER-1/19CANYOUEVER-1-mediumThreeByTwo210.jpg',\n",
       "    'width': 210,\n",
       "    'height': 140}},\n",
       "  {'display_title': 'Charm City',\n",
       "   'mpaa_rating': '',\n",
       "   'critics_pick': 1,\n",
       "   'byline': 'BEN KENIGSBERG',\n",
       "   'headline': 'Review: â€˜Charm Cityâ€™ Vividly Captures the Streets of Baltimore',\n",
       "   'summary_short': 'Marilyn Nessâ€™s documentary is dedicated to the memory of the more than 1,000 people said to be killed in Baltimore during the filmâ€™s making.',\n",
       "   'publication_date': '2018-10-16',\n",
       "   'opening_date': '2018-04-22',\n",
       "   'date_updated': '2018-10-16 11:04:03',\n",
       "   'link': {'type': 'article',\n",
       "    'url': 'http://www.nytimes.com/2018/10/16/movies/charm-city-review-baltimore.html',\n",
       "    'suggested_link_text': 'Read the New York Times Review of Charm City'},\n",
       "   'multimedia': {'type': 'mediumThreeByTwo210',\n",
       "    'src': 'https://static01.nyt.com/images/2018/10/17/arts/17charmcity/17charmcity-mediumThreeByTwo210.jpg',\n",
       "    'width': 210,\n",
       "    'height': 140}},\n",
       "  {'display_title': 'Horn from the Heart: The Paul Butterfield Story',\n",
       "   'mpaa_rating': '',\n",
       "   'critics_pick': 1,\n",
       "   'byline': 'GLENN KENNY',\n",
       "   'headline': 'Review: Paul Butterfieldâ€™s Story Is Told in â€˜Horn From the Heartâ€™',\n",
       "   'summary_short': 'A documentary explores the life of the blues musician who was prominent in the 1960s and â€™70s.',\n",
       "   'publication_date': '2018-10-16',\n",
       "   'opening_date': '2018-10-19',\n",
       "   'date_updated': '2018-10-16 11:04:04',\n",
       "   'link': {'type': 'article',\n",
       "    'url': 'http://www.nytimes.com/2018/10/16/movies/horn-from-the-heart-review-paul-butterfield.html',\n",
       "    'suggested_link_text': 'Read the New York Times Review of Horn from the Heart: The Paul Butterfield Story'},\n",
       "   'multimedia': {'type': 'mediumThreeByTwo210',\n",
       "    'src': 'https://static01.nyt.com/images/2018/10/17/arts/17hornfromtheheart/17hornfromtheheart-mediumThreeByTwo210.jpg',\n",
       "    'width': 210,\n",
       "    'height': 140}},\n",
       "  {'display_title': 'The Price of Everything',\n",
       "   'mpaa_rating': '',\n",
       "   'critics_pick': 0,\n",
       "   'byline': 'A.O. SCOTT',\n",
       "   'headline': 'Review: â€˜The Price of Everythingâ€™ Asks $56 Billion Questions About Art',\n",
       "   'summary_short': 'This documentary examines the global art market, and pauses to look at some pictures along the way.',\n",
       "   'publication_date': '2018-10-16',\n",
       "   'opening_date': '2018-10-19',\n",
       "   'date_updated': '2018-10-16 16:08:03',\n",
       "   'link': {'type': 'article',\n",
       "    'url': 'http://www.nytimes.com/2018/10/16/movies/the-price-of-everything-review-documentary.html',\n",
       "    'suggested_link_text': 'Read the New York Times Review of The Price of Everything'},\n",
       "   'multimedia': {'type': 'mediumThreeByTwo210',\n",
       "    'src': 'https://static01.nyt.com/images/2018/10/19/arts/19priceofeverything/19priceofeverything-mediumThreeByTwo210.jpg',\n",
       "    'width': 210,\n",
       "    'height': 140}},\n",
       "  {'display_title': 'Impulso',\n",
       "   'mpaa_rating': '',\n",
       "   'critics_pick': 0,\n",
       "   'byline': 'BEN KENIGSBERG',\n",
       "   'headline': 'Review: â€˜Impulsoâ€™ Goes Backstage With a Flamenco Innovator',\n",
       "   'summary_short': 'This documentary follows RocÃ\\xado Molina, a cutting-edge dancer, as she prepares for a Paris show.',\n",
       "   'publication_date': '2018-10-16',\n",
       "   'opening_date': None,\n",
       "   'date_updated': '2018-10-16 11:04:03',\n",
       "   'link': {'type': 'article',\n",
       "    'url': 'http://www.nytimes.com/2018/10/16/movies/impulso-review-documentary.html',\n",
       "    'suggested_link_text': 'Read the New York Times Review of Impulso'},\n",
       "   'multimedia': {'type': 'mediumThreeByTwo210',\n",
       "    'src': 'https://static01.nyt.com/images/2018/10/17/arts/17impulso/17impulso-mediumThreeByTwo210.jpg',\n",
       "    'width': 210,\n",
       "    'height': 140}},\n",
       "  {'display_title': 'Watergate',\n",
       "   'mpaa_rating': '',\n",
       "   'critics_pick': 1,\n",
       "   'byline': 'A.O. SCOTT',\n",
       "   'headline': 'Review: â€˜Watergateâ€™ Shocks Anew With Its True Tale of Political Scandal',\n",
       "   'summary_short': 'Charles Ferguson delivers a comprehensive documentary about the not-so-distant past, with its eye very much on the present.',\n",
       "   'publication_date': '2018-10-11',\n",
       "   'opening_date': '2018-10-12',\n",
       "   'date_updated': '2018-10-17 02:44:21',\n",
       "   'link': {'type': 'article',\n",
       "    'url': 'http://www.nytimes.com/2018/10/11/movies/watergate-review-documentary.html',\n",
       "    'suggested_link_text': 'Read the New York Times Review of Watergate'},\n",
       "   'multimedia': {'type': 'mediumThreeByTwo210',\n",
       "    'src': 'https://static01.nyt.com/images/2018/10/12/arts/12watergate/12watergate-mediumThreeByTwo210-v3.jpg',\n",
       "    'width': 210,\n",
       "    'height': 140}},\n",
       "  {'display_title': 'Barbara',\n",
       "   'mpaa_rating': '',\n",
       "   'critics_pick': 1,\n",
       "   'byline': 'GLENN KENNY',\n",
       "   'headline': 'Review: In â€˜Barbara,â€™ a Fictional Biopic of a French Chanteuse',\n",
       "   'summary_short': 'Itâ€™s a film of scenes rather than of one unified narrative, but each scene is a showcase for the magnificent talents of its star.',\n",
       "   'publication_date': '2018-10-11',\n",
       "   'opening_date': None,\n",
       "   'date_updated': '2018-10-17 02:44:21',\n",
       "   'link': {'type': 'article',\n",
       "    'url': 'http://www.nytimes.com/2018/10/11/movies/barbara-review.html',\n",
       "    'suggested_link_text': 'Read the New York Times Review of Barbara'},\n",
       "   'multimedia': {'type': 'mediumThreeByTwo210',\n",
       "    'src': 'https://static01.nyt.com/images/2018/10/12/arts/12barbara/merlin_144926925_2fb5b176-1b74-4549-9be7-251a1f04323d-mediumThreeByTwo210.jpg',\n",
       "    'width': 210,\n",
       "    'height': 140}},\n",
       "  {'display_title': 'Over the Limit',\n",
       "   'mpaa_rating': '',\n",
       "   'critics_pick': 1,\n",
       "   'byline': 'JEANNETTE CATSOULIS',\n",
       "   'headline': 'Review: A Russian Gymnast Goes â€˜Over the Limitâ€™',\n",
       "   'summary_short': 'Margarita Mamun endures injury and abuse in Marta Prusâ€™s brilliantly constructed documentary.',\n",
       "   'publication_date': '2018-10-11',\n",
       "   'opening_date': '2018-10-05',\n",
       "   'date_updated': '2018-10-17 02:44:20',\n",
       "   'link': {'type': 'article',\n",
       "    'url': 'http://www.nytimes.com/2018/10/11/movies/over-the-limit-review.html',\n",
       "    'suggested_link_text': 'Read the New York Times Review of Over the Limit'},\n",
       "   'multimedia': {'type': 'mediumThreeByTwo210',\n",
       "    'src': 'https://static01.nyt.com/images/2018/10/12/arts/12over1/12over1-mediumThreeByTwo210-v2.jpg',\n",
       "    'width': 210,\n",
       "    'height': 140}},\n",
       "  {'display_title': 'The Kindergarten Teacher',\n",
       "   'mpaa_rating': 'R',\n",
       "   'critics_pick': 1,\n",
       "   'byline': 'JEANNETTE CATSOULIS',\n",
       "   'headline': 'Review: The Disturbing Obsession of â€˜The Kindergarten Teacherâ€™',\n",
       "   'summary_short': 'Maggie Gyllenhaal is riveting as a dissatisfied teacher whoâ€™s obsessed with her 5-year-old pupilâ€™s poetic talent.',\n",
       "   'publication_date': '2018-10-11',\n",
       "   'opening_date': '2018-10-12',\n",
       "   'date_updated': '2018-10-17 02:44:19',\n",
       "   'link': {'type': 'article',\n",
       "    'url': 'http://www.nytimes.com/2018/10/11/movies/the-kindergarten-teacher-review.html',\n",
       "    'suggested_link_text': 'Read the New York Times Review of The Kindergarten Teacher'},\n",
       "   'multimedia': {'type': 'mediumThreeByTwo210',\n",
       "    'src': 'https://static01.nyt.com/images/2018/10/12/arts/12kindergarten1/kindergarten1-mediumThreeByTwo210.jpg',\n",
       "    'width': 210,\n",
       "    'height': 140}},\n",
       "  {'display_title': 'Classical Period',\n",
       "   'mpaa_rating': '',\n",
       "   'critics_pick': 1,\n",
       "   'byline': 'BEN KENIGSBERG',\n",
       "   'headline': 'Review: In â€˜Classical Period,â€™ a Deep Dive â€” Really Deep â€” Into Dante',\n",
       "   'summary_short': 'This highly original feature is technically in English, but it might as well be in liberal-arts-speak.',\n",
       "   'publication_date': '2018-10-11',\n",
       "   'opening_date': None,\n",
       "   'date_updated': '2018-10-17 02:44:18',\n",
       "   'link': {'type': 'article',\n",
       "    'url': 'http://www.nytimes.com/2018/10/11/movies/classical-period-review.html',\n",
       "    'suggested_link_text': 'Read the New York Times Review of Classical Period'},\n",
       "   'multimedia': {'type': 'mediumThreeByTwo210',\n",
       "    'src': 'https://static01.nyt.com/images/2018/10/10/arts/classical1/classical1-mediumThreeByTwo210.jpg',\n",
       "    'width': 210,\n",
       "    'height': 140}},\n",
       "  {'display_title': 'Bad Times at the El Royale',\n",
       "   'mpaa_rating': 'R',\n",
       "   'critics_pick': 0,\n",
       "   'byline': 'MANOHLA DARGIS',\n",
       "   'headline': 'Review: Hard-Boiled Play in â€˜Bad Times at the El Royaleâ€™',\n",
       "   'summary_short': 'The writer-director Drew Goddard has fun with genre and a cast that includes Jeff Bridges, Dakota Johnson, Jon Hamm, Cynthia Erivo and Chris Hemsworth.',\n",
       "   'publication_date': '2018-10-11',\n",
       "   'opening_date': '2018-10-12',\n",
       "   'date_updated': '2018-10-17 02:44:22',\n",
       "   'link': {'type': 'article',\n",
       "    'url': 'http://www.nytimes.com/2018/10/11/movies/bad-times-at-the-el-royale-review.html',\n",
       "    'suggested_link_text': 'Read the New York Times Review of Bad Times at the El Royale'},\n",
       "   'multimedia': {'type': 'mediumThreeByTwo210',\n",
       "    'src': 'https://static01.nyt.com/images/2018/10/12/arts/12badtimes-1/merlin_144926712_c4da8d26-b8af-4e7b-b65d-75e7ae46f296-mediumThreeByTwo210.jpg',\n",
       "    'width': 210,\n",
       "    'height': 140}},\n",
       "  {'display_title': 'Beautiful Boy',\n",
       "   'mpaa_rating': 'R',\n",
       "   'critics_pick': 0,\n",
       "   'byline': 'A.O. SCOTT',\n",
       "   'headline': 'Review: In â€˜Beautiful Boy,â€™ a Writer Confronts His Sonâ€™s Meth Addiction',\n",
       "   'summary_short': 'Two memoirs are brought to the screen in a father-son drama starring Steve Carell and TimothÃ©e Chalamet.',\n",
       "   'publication_date': '2018-10-11',\n",
       "   'opening_date': '2018-10-12',\n",
       "   'date_updated': '2018-10-17 02:44:21',\n",
       "   'link': {'type': 'article',\n",
       "    'url': 'http://www.nytimes.com/2018/10/11/movies/beautiful-boy-review-steve-carell.html',\n",
       "    'suggested_link_text': 'Read the New York Times Review of Beautiful Boy'},\n",
       "   'multimedia': {'type': 'mediumThreeByTwo210',\n",
       "    'src': 'https://static01.nyt.com/images/2018/10/12/arts/12beautifulboy/merlin_144926952_7ed013e2-cd6b-44c0-9431-dc59fc305700-mediumThreeByTwo210.jpg',\n",
       "    'width': 210,\n",
       "    'height': 140}},\n",
       "  {'display_title': 'The Oath',\n",
       "   'mpaa_rating': 'R',\n",
       "   'critics_pick': 0,\n",
       "   'byline': 'GLENN KENNY',\n",
       "   'headline': 'Review: In â€˜The Oath,â€™ a Pledge of Allegiance to a President Creates Chasms',\n",
       "   'summary_short': 'This satirical comedy, written, directed by and starring Ike Barinholtz, turns dark and ham-handed.',\n",
       "   'publication_date': '2018-10-11',\n",
       "   'opening_date': '2018-10-12',\n",
       "   'date_updated': '2018-10-17 02:44:21',\n",
       "   'link': {'type': 'article',\n",
       "    'url': 'http://www.nytimes.com/2018/10/11/movies/the-oath-review-tiffany-haddish.html',\n",
       "    'suggested_link_text': 'Read the New York Times Review of The Oath'},\n",
       "   'multimedia': {'type': 'mediumThreeByTwo210',\n",
       "    'src': 'https://static01.nyt.com/images/2018/10/12/arts/12theoath/12theoath-mediumThreeByTwo210-v2.jpg',\n",
       "    'width': 210,\n",
       "    'height': 140}},\n",
       "  {'display_title': 'Bikini Moon',\n",
       "   'mpaa_rating': '',\n",
       "   'critics_pick': 0,\n",
       "   'byline': 'KEN JAWOROWSKI',\n",
       "   'headline': 'Review: â€˜Bikini Moonâ€™ Finds a Documentary Crew Under Its Subjectâ€™s Spell',\n",
       "   'summary_short': 'Condola Rashad plays the title character, a homeless women who manipulates, and is manipulated by, filmmakers who soon have their own problems.',\n",
       "   'publication_date': '2018-10-11',\n",
       "   'opening_date': '2018-10-12',\n",
       "   'date_updated': '2018-10-17 02:44:20',\n",
       "   'link': {'type': 'article',\n",
       "    'url': 'http://www.nytimes.com/2018/10/11/movies/bikini-moon-review.html',\n",
       "    'suggested_link_text': 'Read the New York Times Review of Bikini Moon'},\n",
       "   'multimedia': {'type': 'mediumThreeByTwo210',\n",
       "    'src': 'https://static01.nyt.com/images/2018/10/12/arts/12bikini1/12bikini1-mediumThreeByTwo210-v4.jpg',\n",
       "    'width': 210,\n",
       "    'height': 140}},\n",
       "  {'display_title': 'Goosebumps 2: Haunted Halloween',\n",
       "   'mpaa_rating': 'PG',\n",
       "   'critics_pick': 0,\n",
       "   'byline': 'TEO BUGBEE',\n",
       "   'headline': 'Review: â€˜Goosebumps 2: Haunted Halloweenâ€™ Is Toothless Terror',\n",
       "   'summary_short': 'This sequel to the movie adaptation of R.L. Stineâ€™s horror series is more goofy than scary.',\n",
       "   'publication_date': '2018-10-11',\n",
       "   'opening_date': '2018-10-12',\n",
       "   'date_updated': '2018-10-17 02:44:20',\n",
       "   'link': {'type': 'article',\n",
       "    'url': 'http://www.nytimes.com/2018/10/11/movies/goosebumps-2-haunted-halloween-review.html',\n",
       "    'suggested_link_text': 'Read the New York Times Review of Goosebumps 2: Haunted Halloween'},\n",
       "   'multimedia': {'type': 'mediumThreeByTwo210',\n",
       "    'src': 'https://static01.nyt.com/images/2018/10/12/arts/12goosebumps/merlin_144927237_ce38ea83-4672-4382-8c4d-e6c80325379c-mediumThreeByTwo210.jpg',\n",
       "    'width': 210,\n",
       "    'height': 140}},\n",
       "  {'display_title': 'The Sentence',\n",
       "   'mpaa_rating': '',\n",
       "   'critics_pick': 0,\n",
       "   'byline': 'KEN JAWOROWSKI',\n",
       "   'headline': 'Review: In â€˜The Sentence,â€™ a Woman Gets Prison, Her Family Also Pays',\n",
       "   'summary_short': 'The documentary denounces minimum sentencing laws that put Cindy Shank behind bars.',\n",
       "   'publication_date': '2018-10-11',\n",
       "   'opening_date': '2018-10-12',\n",
       "   'date_updated': '2018-10-17 02:44:19',\n",
       "   'link': {'type': 'article',\n",
       "    'url': 'http://www.nytimes.com/2018/10/11/movies/the-sentence-review.html',\n",
       "    'suggested_link_text': 'Read the New York Times Review of The Sentence'},\n",
       "   'multimedia': {'type': 'mediumThreeByTwo210',\n",
       "    'src': 'https://static01.nyt.com/images/2018/10/09/arts/thesentence1/thesentence1-mediumThreeByTwo210.jpg',\n",
       "    'width': 210,\n",
       "    'height': 140}},\n",
       "  {'display_title': 'All Square',\n",
       "   'mpaa_rating': '',\n",
       "   'critics_pick': 0,\n",
       "   'byline': 'GLENN KENNY',\n",
       "   'headline': 'Review: In â€˜All Square,â€™ Taking Big Bets on Youth Baseball',\n",
       "   'summary_short': 'Michael Kelly, Pamela Adlon and Josh Lucas enhance the small-town bookmaking shenanigans of this comedy-drama.',\n",
       "   'publication_date': '2018-10-11',\n",
       "   'opening_date': None,\n",
       "   'date_updated': '2018-10-11 11:04:11',\n",
       "   'link': {'type': 'article',\n",
       "    'url': 'http://www.nytimes.com/2018/10/11/movies/all-square-review.html',\n",
       "    'suggested_link_text': 'Read the New York Times Review of All Square'},\n",
       "   'multimedia': {'type': 'mediumThreeByTwo210',\n",
       "    'src': 'https://static01.nyt.com/images/2018/10/12/arts/12allsquare/12allsquare-mediumThreeByTwo210-v2.jpg',\n",
       "    'width': 210,\n",
       "    'height': 140}},\n",
       "  {'display_title': 'Sadie',\n",
       "   'mpaa_rating': '',\n",
       "   'critics_pick': 0,\n",
       "   'byline': 'KEN JAWOROWSKI',\n",
       "   'headline': 'Review: The Drama â€˜Sadieâ€™ Finds a Teenager in a Tough Situation',\n",
       "   'summary_short': 'The film stars Sophia Mitri Schloss as the title character, a 13-year-old girl who grows angry at the men who are courting her mother.',\n",
       "   'publication_date': '2018-10-11',\n",
       "   'opening_date': '2018-10-12',\n",
       "   'date_updated': '2018-10-11 11:04:07',\n",
       "   'link': {'type': 'article',\n",
       "    'url': 'http://www.nytimes.com/2018/10/11/movies/sadie-review.html',\n",
       "    'suggested_link_text': 'Read the New York Times Review of Sadie'},\n",
       "   'multimedia': {'type': 'mediumThreeByTwo210',\n",
       "    'src': 'https://static01.nyt.com/images/2018/10/12/arts/12sadie1/sadie1-mediumThreeByTwo210.jpg',\n",
       "    'width': 210,\n",
       "    'height': 140}},\n",
       "  {'display_title': 'After Everything',\n",
       "   'mpaa_rating': '',\n",
       "   'critics_pick': 0,\n",
       "   'byline': 'TEO BUGBEE',\n",
       "   'headline': 'Review: In â€˜After Everything,â€™ a Young Love Blooms in Crisis',\n",
       "   'summary_short': 'This cancer drama focuses less on the high stakes of illness than on how two young people talk to each other in sickness and in health.',\n",
       "   'publication_date': '2018-10-11',\n",
       "   'opening_date': '2018-10-12',\n",
       "   'date_updated': '2018-10-17 02:44:18',\n",
       "   'link': {'type': 'article',\n",
       "    'url': 'http://www.nytimes.com/2018/10/11/movies/after-everything-review.html',\n",
       "    'suggested_link_text': 'Read the New York Times Review of After Everything'},\n",
       "   'multimedia': {'type': 'mediumThreeByTwo210',\n",
       "    'src': 'https://static01.nyt.com/images/2018/10/12/arts/12aftereverything/12aftereverything-mediumThreeByTwo210.jpg',\n",
       "    'width': 210,\n",
       "    'height': 140}},\n",
       "  {'display_title': 'First Man',\n",
       "   'mpaa_rating': 'PG-13',\n",
       "   'critics_pick': 0,\n",
       "   'byline': 'A.O. SCOTT',\n",
       "   'headline': 'Review: â€˜First Manâ€™ Takes a Giant Leap for Man, a Smaller Step for Movies',\n",
       "   'summary_short': 'Damien Chazelleâ€™s sweeping and intimate yet underwhelming film revisits the first lunar landing, with Ryan Gosling as Neil Armstrong.',\n",
       "   'publication_date': '2018-10-10',\n",
       "   'opening_date': '2018-10-12',\n",
       "   'date_updated': '2018-10-17 02:44:18',\n",
       "   'link': {'type': 'article',\n",
       "    'url': 'http://www.nytimes.com/2018/10/10/movies/first-man-review-ryan-gosling-damien-chazelle.html',\n",
       "    'suggested_link_text': 'Read the New York Times Review of First Man'},\n",
       "   'multimedia': {'type': 'mediumThreeByTwo210',\n",
       "    'src': 'https://static01.nyt.com/images/2018/10/12/arts/12FIRSTMAN-1/merlin_144926997_3122f50f-2561-4ea3-918c-f6911d00c31f-mediumThreeByTwo210.jpg',\n",
       "    'width': 210,\n",
       "    'height': 140}}]]"
      ]
     },
     "execution_count": 48,
     "metadata": {},
     "output_type": "execute_result"
    }
   ],
   "source": [
    "# Your code here\n",
    "results"
   ]
  },
  {
   "cell_type": "code",
   "execution_count": null,
   "metadata": {},
   "outputs": [],
   "source": [
    "\"\"\"\n",
    "Yes \n",
    "\"\"\""
   ]
  },
  {
   "cell_type": "markdown",
   "metadata": {},
   "source": [
    "### How many unique critics are there?\n",
    "\n",
    "A critic's name can be identified using the `'byline'` key. Assign your answer to the variable `unique_critics`."
   ]
  },
  {
   "cell_type": "code",
   "execution_count": 64,
   "metadata": {},
   "outputs": [
    {
     "data": {
      "text/plain": [
       "7"
      ]
     },
     "execution_count": 64,
     "metadata": {},
     "output_type": "execute_result"
    }
   ],
   "source": [
    "# Your code here\n",
    "results[0][0]['byline']\n",
    "unique_critics = len(list(set([critic['byline'] for critic in results[0]])))\n",
    "unique_critics"
   ]
  },
  {
   "cell_type": "markdown",
   "metadata": {},
   "source": [
    "This code checks your answer."
   ]
  },
  {
   "cell_type": "code",
   "execution_count": 65,
   "metadata": {},
   "outputs": [],
   "source": [
    "# Run this cell without changes\n",
    "assert unique_critics == 7"
   ]
  },
  {
   "cell_type": "markdown",
   "metadata": {},
   "source": [
    "## Flattening Data\n",
    "\n",
    "Create a list `review_urls` that contains the URL for each review. This can be found using the `'url'` key nested under `'link'`."
   ]
  },
  {
   "cell_type": "code",
   "execution_count": 71,
   "metadata": {},
   "outputs": [],
   "source": [
    "def get_links(review):\n",
    "    result = [link['link'] for link in results[0]]\n",
    "    \n",
    "    return result"
   ]
  },
  {
   "cell_type": "code",
   "execution_count": 86,
   "metadata": {},
   "outputs": [],
   "source": [
    "# Your code here (create more cells as needed)\n",
    "links_list = get_links(results)\n",
    "review_urls = [url['url'] for url in links_list]"
   ]
  },
  {
   "cell_type": "markdown",
   "metadata": {},
   "source": [
    "The following code will check your answer:"
   ]
  },
  {
   "cell_type": "code",
   "execution_count": 87,
   "metadata": {},
   "outputs": [],
   "source": [
    "# Run this cell without changes\n",
    "\n",
    "# review_urls should be a list\n",
    "assert type(review_urls) == list\n",
    "\n",
    "# The length should be 20, same as the length of reviews\n",
    "assert len(review_urls) == 20\n",
    "\n",
    "# The data type contained should be string\n",
    "assert type(review_urls[0]) == str and type(review_urls[-1]) == str\n",
    "\n",
    "# Spot checking a specific value\n",
    "assert review_urls[6] == 'http://www.nytimes.com/2018/10/11/movies/barbara-review.html'"
   ]
  },
  {
   "cell_type": "markdown",
   "metadata": {},
   "source": [
    "## Summary\n",
    "Well done! In this lab you continued to practice extracting and transforming data from JSON files with known schemas."
   ]
  }
 ],
 "metadata": {
  "kernelspec": {
   "display_name": "Python 3",
   "language": "python",
   "name": "python3"
  },
  "language_info": {
   "codemirror_mode": {
    "name": "ipython",
    "version": 3
   },
   "file_extension": ".py",
   "mimetype": "text/x-python",
   "name": "python",
   "nbconvert_exporter": "python",
   "pygments_lexer": "ipython3",
   "version": "3.8.5"
  },
  "toc": {
   "base_numbering": 1,
   "nav_menu": {},
   "number_sections": true,
   "sideBar": true,
   "skip_h1_title": false,
   "title_cell": "Table of Contents",
   "title_sidebar": "Contents",
   "toc_cell": false,
   "toc_position": {},
   "toc_section_display": true,
   "toc_window_display": false
  }
 },
 "nbformat": 4,
 "nbformat_minor": 2
}
